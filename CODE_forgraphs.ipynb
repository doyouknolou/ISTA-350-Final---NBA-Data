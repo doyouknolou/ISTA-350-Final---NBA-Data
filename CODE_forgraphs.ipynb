{
 "cells": [
  {
   "cell_type": "code",
   "execution_count": null,
   "id": "54367149",
   "metadata": {},
   "outputs": [],
   "source": [
    "import csv, math\n",
    "import pandas as pd\n",
    "import numpy as np\n",
    "from datetime import timedelta\n",
    "import time\n",
    "import matplotlib.pyplot as plt\n",
    "import statsmodels.api as sm\n",
    "import plotly.express as px"
   ]
  },
  {
   "cell_type": "code",
   "execution_count": null,
   "id": "ad649850",
   "metadata": {},
   "outputs": [],
   "source": [
    "pf = pd.read_html('https://www.nbastuffer.com/2020-2021-nba-player-stats/', index_col=0, header=0, \n",
    "                    skiprows=[21])[0]"
   ]
  },
  {
   "cell_type": "code",
   "execution_count": null,
   "id": "f4af42a0",
   "metadata": {},
   "outputs": [],
   "source": [
    "pf.head()"
   ]
  },
  {
   "cell_type": "code",
   "execution_count": null,
   "id": "41cbda3c",
   "metadata": {},
   "outputs": [],
   "source": [
    "pf.reset_index()"
   ]
  },
  {
   "cell_type": "code",
   "execution_count": null,
   "id": "d88f15d5",
   "metadata": {},
   "outputs": [],
   "source": [
    "pf.reset_index()"
   ]
  },
  {
   "cell_type": "code",
   "execution_count": null,
   "id": "93e990ee",
   "metadata": {},
   "outputs": [],
   "source": [
    "import matplotlib.ticker as ticker\n",
    "#fig1 = pf.plot.scatter(x = 'MIN%Minutes PercentagePercentage of team minutes used by a player while he was on the floor',y ='PPGPointsPoints per game.')\n",
    "x = pf['MIN%Minutes PercentagePercentage of team minutes used by a player while he was on the floor']\n",
    "y = pf['PPGPointsPoints per game.']\n",
    "plt.scatter(x, y)\n",
    "z = np.polyfit(x, y, 1)\n",
    "p = np.poly1d(z)\n",
    "plt.plot(x,p(x),\"r--\")\n",
    "plt.xlabel('Percenatage of Team Minutes %') \n",
    "plt.ylabel('Points Per Game') \n",
    "plt.title(\"Amount of Time Spent Playing and Points Earned\")\n",
    "plt.gca().xaxis.set_major_formatter(ticker.PercentFormatter())\n",
    "plt.show()\n"
   ]
  },
  {
   "cell_type": "code",
   "execution_count": null,
   "id": "3bddfd9d",
   "metadata": {
    "scrolled": true
   },
   "outputs": [],
   "source": []
  },
  {
   "cell_type": "code",
   "execution_count": null,
   "id": "b9698958",
   "metadata": {},
   "outputs": [],
   "source": [
    "pf_team = pf.groupby('TEAM').sum()\n",
    "pf_team = pf_team.reset_index()\n",
    "pf_team.head(16)\n",
    "pf_team = pf_team.reindex([9, 12, 0, 5, 14, 11, 4, 2, 7, 15, 3, 10, 13, 8, 1, 6])"
   ]
  },
  {
   "cell_type": "code",
   "execution_count": null,
   "id": "e0aefd40",
   "metadata": {},
   "outputs": [],
   "source": [
    "fig2 = pf_team.plot.bar(x= 'TEAM', y='PPGPointsPoints per game.',\\\n",
    "                        color=['darkgreen', 'darkorange', 'black', 'mediumblue', 'gold', 'red', 'midnightblue', 'black',\\\n",
    "                             'mediumblue', 'red', 'silver', 'orange', 'red', 'hotpink', 'green', 'purple'], \\\n",
    "                        title='Total Points Per Team' )\n",
    "fig2.set_ylabel('Number of Points')\n",
    "fig2.set_xlabel('Team')\n",
    "fig2.get_legend().remove()"
   ]
  },
  {
   "cell_type": "code",
   "execution_count": null,
   "id": "a9c9b5ef",
   "metadata": {},
   "outputs": [],
   "source": [
    "pf_team2 = pf.groupby('TEAM').mean()\n",
    "pf_team2 = pf_team2.reset_index()\n",
    "list(pf.columns)\n",
    "pf_team2.head(12)"
   ]
  },
  {
   "cell_type": "code",
   "execution_count": null,
   "id": "2a22f4ea",
   "metadata": {},
   "outputs": [],
   "source": [
    "list(pf_team2.columns)\n"
   ]
  },
  {
   "cell_type": "code",
   "execution_count": null,
   "id": "e5fc422b",
   "metadata": {},
   "outputs": [],
   "source": [
    "pf_team2 = pf_team2[['TEAM', 'FT%', '2P%', '3P%', 'eFG%Effective Shooting PercentageWith eFG%, \\\n",
    "three-point shots made are worth 50% more than two-point shots made. eFG% Formula=(FGM+ (0.5 x 3PM))/FGA', \\\n",
    "'TRB%Total Rebound PercentageTotal rebound percentage is estimated percentage of available rebounds grabbed \\\n",
    "by the player while the player is on the court.','TO%Turnover RateA metric that estimates the number of turnovers \\\n",
    "a player commits per 100 possessions']]\n",
    "pf_team22 = pf_team2.loc[(pf_team2['TEAM'] == 'Mil') | (pf_team2['TEAM'] == 'Pho')]"
   ]
  },
  {
   "cell_type": "code",
   "execution_count": null,
   "id": "442490b3",
   "metadata": {},
   "outputs": [],
   "source": [
    "pf_team22.head()"
   ]
  },
  {
   "cell_type": "code",
   "execution_count": null,
   "id": "a65ae558",
   "metadata": {},
   "outputs": [],
   "source": [
    "def turn_to_percent(df, colname):\n",
    "    df[colname] = df[colname] * 100\n",
    "    return df\n",
    "\n",
    "pf_team22 = turn_to_percent(pf_team22, 'FT%')\n",
    "pf_team22 = turn_to_percent(pf_team22, '2P%') \n",
    "pf_team22 = turn_to_percent(pf_team22, '3P%')\n",
    "pf_team22 = turn_to_percent(pf_team22, 'eFG%Effective Shooting PercentageWith eFG%, \\\n",
    "three-point shots made are worth 50% more than two-point shots made. eFG% Formula=(FGM+ (0.5 x 3PM))/FGA')"
   ]
  },
  {
   "cell_type": "code",
   "execution_count": null,
   "id": "7679756d",
   "metadata": {},
   "outputs": [],
   "source": [
    "\n",
    "listOfDFRows = pf_team22.to_numpy().tolist()\n",
    "mil_means1 = listOfDFRows[0]\n",
    "mil_means1.pop(0)\n",
    "pho_means1 = listOfDFRows[1]\n",
    "pho_means1.pop(0)\n",
    "\n",
    "print(mil_means1, pho_means1)\n"
   ]
  },
  {
   "cell_type": "code",
   "execution_count": null,
   "id": "3dc16f32",
   "metadata": {},
   "outputs": [],
   "source": [
    "import matplotlib.ticker as mtick\n",
    "labels = ['FT%', '2P%', '3P%', 'eFG%', 'TRB%', 'TO%']\n",
    "x = np.arange(len(labels))  # the label locations\n",
    "width = 0.35  # the width of the bars\n",
    "\n",
    "fig, ax = plt.subplots()\n",
    "rects1 = ax.bar(x - width/2, mil_means1, width, label='Milwaukee Bucks', color = 'green')\n",
    "rects2 = ax.bar(x + width/2, pho_means1, width, label='Phoenix Suns', color = 'darkorange')\n",
    "\n",
    "ax.set_ylabel('Stats Percentage %')\n",
    "ax.set_xlabel('Stats')\n",
    "ax.set_title('Scores by Team and Stat')\n",
    "ax.set_xticks(x)\n",
    "ax.set_xticklabels(labels)\n",
    "ax.yaxis.set_major_formatter(mtick.PercentFormatter())\n",
    "ax.legend()\n",
    "fig.tight_layout()\n",
    "\n",
    "plt.show()"
   ]
  },
  {
   "cell_type": "code",
   "execution_count": null,
   "id": "cfa578dc",
   "metadata": {},
   "outputs": [],
   "source": [
    "pf_player_short = pf[['FULL NAME', 'FT%', '2P%', '3P%', 'eFG%Effective Shooting PercentageWith eFG%, \\\n",
    "three-point shots made are worth 50% more than two-point shots made. eFG% Formula=(FGM+ (0.5 x 3PM))/FGA', \\\n",
    "'MIN%Minutes PercentagePercentage of team minutes used by a player while he was on the floor']]\n",
    "dev_giannis = pf_player_short.loc[(pf_player_short['FULL NAME'] == 'Devin Booker') | (pf_player_short['FULL NAME'] == 'Giannis Antetokounmpo')]"
   ]
  },
  {
   "cell_type": "code",
   "execution_count": null,
   "id": "125ae013",
   "metadata": {},
   "outputs": [],
   "source": [
    "dev_giannis = turn_to_percent(dev_giannis, 'FT%')\n",
    "dev_giannis = turn_to_percent(dev_giannis, '2P%') \n",
    "dev_giannis = turn_to_percent(dev_giannis, '3P%')\n",
    "dev_giannis = turn_to_percent(dev_giannis, 'eFG%Effective Shooting PercentageWith eFG%, \\\n",
    "three-point shots made are worth 50% more than two-point shots made. eFG% Formula=(FGM+ (0.5 x 3PM))/FGA')\n"
   ]
  },
  {
   "cell_type": "code",
   "execution_count": null,
   "id": "21d23890",
   "metadata": {},
   "outputs": [],
   "source": [
    "dev_giannis.head()"
   ]
  },
  {
   "cell_type": "code",
   "execution_count": null,
   "id": "dda66e55",
   "metadata": {
    "scrolled": true
   },
   "outputs": [],
   "source": [
    "listOfDFRows = dev_giannis.to_numpy().tolist()\n",
    "dev = listOfDFRows[0]\n",
    "dev.pop(0)\n",
    "giannis = listOfDFRows[1]\n",
    "giannis.pop(0)\n",
    "\n",
    "print(dev, giannis)"
   ]
  },
  {
   "cell_type": "code",
   "execution_count": null,
   "id": "131c85d9",
   "metadata": {},
   "outputs": [],
   "source": [
    "import matplotlib.ticker as mtick\n",
    "labels = ['FT%', '2P%', '3P%', 'eFG%', 'Min Playing%']\n",
    "x = np.arange(len(labels))  # the label locations\n",
    "width = 0.35  # the width of the bars\n",
    "\n",
    "fig, ax = plt.subplots()\n",
    "rects1 = ax.bar(x - width/2, giannis, width, label='Giannis Antetokounmpo', color = 'green')\n",
    "rects2 = ax.bar(x + width/2, dev, width, label='Devin Booker', color = 'darkorange')\n",
    "\n",
    "ax.set_ylabel('Stats Percentage %')\n",
    "ax.set_xlabel('Stats')\n",
    "ax.set_title('Scores by Player and Stat')\n",
    "ax.set_xticks(x)\n",
    "ax.set_xticklabels(labels)\n",
    "ax.yaxis.set_major_formatter(mtick.PercentFormatter())\n",
    "ax.legend()\n",
    "fig.tight_layout()\n",
    "\n",
    "plt.show()"
   ]
  },
  {
   "cell_type": "code",
   "execution_count": null,
   "id": "afa41988",
   "metadata": {},
   "outputs": [],
   "source": []
  }
 ],
 "metadata": {
  "kernelspec": {
   "display_name": "Python 3",
   "language": "python",
   "name": "python3"
  },
  "language_info": {
   "codemirror_mode": {
    "name": "ipython",
    "version": 3
   },
   "file_extension": ".py",
   "mimetype": "text/x-python",
   "name": "python",
   "nbconvert_exporter": "python",
   "pygments_lexer": "ipython3",
   "version": "3.8.8"
  }
 },
 "nbformat": 4,
 "nbformat_minor": 5
}
